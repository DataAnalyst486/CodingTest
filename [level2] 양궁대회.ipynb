{
 "cells": [
  {
   "cell_type": "markdown",
   "metadata": {},
   "source": [
    "## 프로그래머스 2단계"
   ]
  },
  {
   "cell_type": "markdown",
   "metadata": {},
   "source": [
    "### 2022 KAKAO BLIND RECRUITMENT > 양궁대회\n",
    "\n"
   ]
  },
  {
   "cell_type": "markdown",
   "metadata": {},
   "source": [
    "https://programmers.co.kr/learn/courses/30/lessons/92342"
   ]
  },
  {
   "cell_type": "code",
   "execution_count": null,
   "metadata": {},
   "outputs": [],
   "source": [
    "from itertools import combinations_with_replacement\n",
    "from collections import Counter\n",
    "\n",
    "\n",
    "def solution(n, info):\n",
    "    answer = [0]*11\n",
    "    max_point = 0\n",
    "    for combi in combinations_with_replacement(range(11), n):\n",
    "        cnt = Counter(combi)\n",
    "        apeach, lion = 0, 0\n",
    "        for i in range(11):\n",
    "            if info[10-i] < cnt[i]:\n",
    "                lion += i\n",
    "            elif info[10-i] > 0:\n",
    "                apeach += i\n",
    "        if lion-apeach > max_point:\n",
    "            max_point = lion-apeach\n",
    "            for i in range(11):\n",
    "                answer[10-i] = cnt[i]\n",
    "    if max_point == 0:\n",
    "        answer = [-1]\n",
    "    return answer"
   ]
  }
 ],
 "metadata": {
  "language_info": {
   "name": "python"
  },
  "orig_nbformat": 4
 },
 "nbformat": 4,
 "nbformat_minor": 2
}
