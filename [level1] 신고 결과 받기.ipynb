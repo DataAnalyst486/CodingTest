{
 "cells": [
  {
   "cell_type": "markdown",
   "metadata": {},
   "source": [
    "## 프로그래머스 1단계"
   ]
  },
  {
   "cell_type": "markdown",
   "metadata": {},
   "source": [
    "### 2022 KAKAO BLIND RECRUITMENT > 신고 결과 받기\n",
    "\n",
    "\n",
    "\n"
   ]
  },
  {
   "cell_type": "markdown",
   "metadata": {},
   "source": [
    "신입사원 무지는 게시판 불량 이용자를 신고하고 처리 결과를 메일로 발송하는 시스템을 개발하려 합니다. 무지가 개발하려는 시스템은 다음과 같습니다.\n",
    "\n",
    "각 유저는 한 번에 한 명의 유저를 신고할 수 있습니다.\n",
    "신고 횟수에 제한은 없습니다. 서로 다른 유저를 계속해서 신고할 수 있습니다.\n",
    "한 유저를 여러 번 신고할 수도 있지만, 동일한 유저에 대한 신고 횟수는 1회로 처리됩니다.\n",
    "k번 이상 신고된 유저는 게시판 이용이 정지되며, 해당 유저를 신고한 모든 유저에게 정지 사실을 메일로 발송합니다.\n",
    "유저가 신고한 모든 내용을 취합하여 마지막에 한꺼번에 게시판 이용 정지를 시키면서 정지 메일을 발송합니다.\n",
    "다음은 전체 유저 목록이 [\"muzi\", \"frodo\", \"apeach\", \"neo\"]이고, k = 2(즉, 2번 이상 신고당하면 이용 정지)인 경우의 예시입니다."
   ]
  },
  {
   "cell_type": "code",
   "execution_count": null,
   "metadata": {},
   "outputs": [],
   "source": [
    "def solution(id_list, report, k):\n",
    "    answer = dict()\n",
    "    id_dict = dict()\n",
    "    c_dict = dict()\n",
    "    e_list = []\n",
    "    \n",
    "    for i in id_list:\n",
    "        id_dict[i] = []\n",
    "        c_dict[i] = 0\n",
    "        answer[i] = 0\n",
    "        \n",
    "    for i in report:\n",
    "        if i.split()[1] not in id_dict[i.split()[0]]:\n",
    "            id_dict[i.split()[0]].append(i.split()[1])\n",
    "    \n",
    "    for i in id_dict.values():\n",
    "        for j in i:\n",
    "            c_dict[j] += 1\n",
    "            \n",
    "    for i, v in c_dict.items():\n",
    "        if int(v) >= int(k):\n",
    "            e_list.append(i)\n",
    "    \n",
    "    for idx, v in id_dict.items():\n",
    "        for i in v:\n",
    "            if i in e_list:\n",
    "                answer[idx] += 1\n",
    "\n",
    "    return list(answer.values())"
   ]
  }
 ],
 "metadata": {
  "language_info": {
   "name": "python"
  },
  "orig_nbformat": 4
 },
 "nbformat": 4,
 "nbformat_minor": 2
}
