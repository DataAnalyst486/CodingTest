{
 "cells": [
  {
   "cell_type": "markdown",
   "metadata": {},
   "source": [
    "## 프로그래머스 1단계"
   ]
  },
  {
   "cell_type": "markdown",
   "metadata": {},
   "source": [
    "### 2021 KAKAO BLIND RECRUITMENT > 신규 아이디 추천\n",
    "\n"
   ]
  },
  {
   "cell_type": "markdown",
   "metadata": {},
   "source": [
    "카카오에 입사한 신입 개발자 네오는 \"카카오계정개발팀\"에 배치되어, 카카오 서비스에 가입하는 유저들의 아이디를 생성하는 업무를 담당하게 되었습니다. \"네오\"에게 주어진 첫 업무는 새로 가입하는 유저들이 카카오 아이디 규칙에 맞지 않는 아이디를 입력했을 때, 입력된 아이디와 유사하면서 규칙에 맞는 아이디를 추천해주는 프로그램을 개발하는 것입니다."
   ]
  },
  {
   "cell_type": "code",
   "execution_count": null,
   "metadata": {},
   "outputs": [],
   "source": [
    "import re\n",
    "def solution(new_id):\n",
    "    answer = ''\n",
    "    new_id = new_id.lower()\n",
    "    new_id = re.sub('[~!@#$%^&*()=\\+\\[\\{\\]\\}\\:?,<>/]','',new_id)\n",
    "    for _ in range(len(new_id)):\n",
    "        new_id = new_id.replace('..','.')\n",
    "    \n",
    "    if new_id[0] == '.':\n",
    "        new_id = new_id[1:]\n",
    "    elif new_id[-1] == '.':\n",
    "        new_id = new_id[:-1]\n",
    "    \n",
    "    if len(new_id) == 0:\n",
    "        new_id = 'a'\n",
    "    \n",
    "    if len(new_id) >= 16:\n",
    "        new_id = new_id[:15]\n",
    "\n",
    "    if new_id[0] == '.':\n",
    "        new_id = new_id[1:]\n",
    "    elif new_id[-1] == '.':\n",
    "        new_id = new_id[:-1]    \n",
    "    \n",
    "    while len(new_id) <= 2:\n",
    "        new_id = new_id + new_id[-1]\n",
    "    answer = new_id\n",
    "    return answer"
   ]
  }
 ],
 "metadata": {
  "language_info": {
   "name": "python"
  },
  "orig_nbformat": 4
 },
 "nbformat": 4,
 "nbformat_minor": 2
}
